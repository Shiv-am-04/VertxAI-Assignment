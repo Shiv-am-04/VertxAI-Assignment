{
 "cells": [
  {
   "cell_type": "code",
   "execution_count": 1,
   "id": "9b38fd98",
   "metadata": {},
   "outputs": [],
   "source": [
    "import os\n",
    "from dotenv import load_dotenv"
   ]
  },
  {
   "cell_type": "code",
   "execution_count": 2,
   "id": "75adf242",
   "metadata": {},
   "outputs": [
    {
     "data": {
      "text/plain": [
       "True"
      ]
     },
     "execution_count": 2,
     "metadata": {},
     "output_type": "execute_result"
    }
   ],
   "source": [
    "load_dotenv()"
   ]
  },
  {
   "cell_type": "code",
   "execution_count": 3,
   "id": "982c7864",
   "metadata": {},
   "outputs": [],
   "source": [
    "groq_api_key = os.getenv('GROQ_API_KEY')\n",
    "\n",
    "gemini_api_key = os.getenv('GEMINI_API_KEY')"
   ]
  },
  {
   "cell_type": "code",
   "execution_count": 4,
   "id": "d9403fd6",
   "metadata": {},
   "outputs": [],
   "source": [
    "from langchain_huggingface import HuggingFaceEmbeddings\n",
    "from langchain_community.vectorstores import FAISS"
   ]
  },
  {
   "cell_type": "code",
   "execution_count": 5,
   "id": "94128853",
   "metadata": {},
   "outputs": [
    {
     "name": "stderr",
     "output_type": "stream",
     "text": [
      "c:\\Users\\SHIVAM GHUGE\\AppData\\Local\\Programs\\Python\\Python311\\Lib\\site-packages\\sentence_transformers\\cross_encoder\\CrossEncoder.py:13: TqdmExperimentalWarning: Using `tqdm.autonotebook.tqdm` in notebook mode. Use `tqdm.tqdm` instead to force console mode (e.g. in jupyter console)\n",
      "  from tqdm.autonotebook import tqdm, trange\n"
     ]
    },
    {
     "name": "stdout",
     "output_type": "stream",
     "text": [
      "WARNING:tensorflow:From c:\\Users\\SHIVAM GHUGE\\AppData\\Local\\Programs\\Python\\Python311\\Lib\\site-packages\\tf_keras\\src\\losses.py:2976: The name tf.losses.sparse_softmax_cross_entropy is deprecated. Please use tf.compat.v1.losses.sparse_softmax_cross_entropy instead.\n",
      "\n"
     ]
    },
    {
     "name": "stderr",
     "output_type": "stream",
     "text": [
      "c:\\Users\\SHIVAM GHUGE\\AppData\\Local\\Programs\\Python\\Python311\\Lib\\site-packages\\transformers\\tokenization_utils_base.py:1601: FutureWarning: `clean_up_tokenization_spaces` was not set. It will be set to `True` by default. This behavior will be depracted in transformers v4.45, and will be then set to `False` by default. For more details check this issue: https://github.com/huggingface/transformers/issues/31884\n",
      "  warnings.warn(\n"
     ]
    }
   ],
   "source": [
    "embeddings = HuggingFaceEmbeddings(model_name='all-MiniLM-L6-v2')"
   ]
  },
  {
   "cell_type": "code",
   "execution_count": 6,
   "id": "b5c8d571",
   "metadata": {},
   "outputs": [],
   "source": [
    "import json\n",
    "\n",
    "with open(r\"C:\\Users\\SHIVAM GHUGE\\Downloads\\Combined file.xlsx - Sheet1.json\",'r',encoding='utf-8') as f:\n",
    "    investor_data = json.load(f)"
   ]
  },
  {
   "cell_type": "code",
   "execution_count": 8,
   "id": "41854cd5",
   "metadata": {},
   "outputs": [],
   "source": [
    "from langchain_community.document_loaders import JSONLoader\n",
    "\n",
    "doc = JSONLoader(r\"C:\\Users\\SHIVAM GHUGE\\Downloads\\Combined file.xlsx - Sheet1.json\",\n",
    "           jq_schema=\".\",text_content=False)\n"
   ]
  },
  {
   "cell_type": "code",
   "execution_count": 9,
   "id": "dd43b65b",
   "metadata": {},
   "outputs": [],
   "source": [
    "docs = doc.load_and_split()"
   ]
  },
  {
   "cell_type": "code",
   "execution_count": 10,
   "id": "5f2e89b8",
   "metadata": {},
   "outputs": [],
   "source": [
    "vectordb = FAISS.from_documents(documents=docs,embedding=embeddings,normalize_L2=True)"
   ]
  },
  {
   "cell_type": "code",
   "execution_count": 13,
   "id": "74692fbb",
   "metadata": {},
   "outputs": [],
   "source": [
    "res = vectordb.similarity_search_with_score(query=q,k=2,fetch_k=10)"
   ]
  },
  {
   "cell_type": "code",
   "execution_count": 18,
   "id": "21786455",
   "metadata": {},
   "outputs": [],
   "source": [
    "retriever = vectordb.as_retriever(search_type=\"mmr\",\n",
    "                                  search_kwargs={'k':2})"
   ]
  },
  {
   "cell_type": "code",
   "execution_count": 25,
   "id": "d503d99b",
   "metadata": {},
   "outputs": [],
   "source": [
    "from langchain_groq import ChatGroq\n",
    "\n",
    "llm = ChatGroq(model=\"meta-llama/llama-4-scout-17b-16e-instruct\",api_key=groq_api_key)"
   ]
  },
  {
   "cell_type": "code",
   "execution_count": 26,
   "id": "4a102d5a",
   "metadata": {},
   "outputs": [],
   "source": [
    "from langchain_core.prompts import ChatPromptTemplate\n",
    "from langchain.chains.combine_documents import create_stuff_documents_chain\n",
    "\n",
    "prompt = ChatPromptTemplate(\n",
    "    [\n",
    "    '''\n",
    "    You have to provide most similar document matching the user query based on the provided context:\n",
    "    <context>\n",
    "    {context}\n",
    "    </context>\n",
    "    '''\n",
    "]\n",
    ")\n",
    "\n",
    "document_chain = create_stuff_documents_chain(llm=llm,prompt=prompt)"
   ]
  },
  {
   "cell_type": "code",
   "execution_count": 27,
   "id": "16e5fdfc",
   "metadata": {},
   "outputs": [],
   "source": [
    "from langchain.chains.retrieval import create_retrieval_chain\n",
    "\n",
    "retriever_chain = create_retrieval_chain(retriever,document_chain)"
   ]
  },
  {
   "cell_type": "code",
   "execution_count": null,
   "id": "87274f58",
   "metadata": {},
   "outputs": [],
   "source": []
  },
  {
   "cell_type": "code",
   "execution_count": 21,
   "id": "c32fa539",
   "metadata": {},
   "outputs": [],
   "source": [
    "def load_prompt(startup_profile,investor_profiles):\n",
    "    prompt = f'''\n",
    "        You are a skilled business analyst specializing in assessing investor-founder (start-up) compatibility. \n",
    "        With a deep understanding of startup ecosystems and investment criteria, your expertise allows you to extract \n",
    "        relevant insights and compute compatibility scores effectively.\n",
    "        Your task is to analyze and process compatibility of founder (start-up) with list of investors.\n",
    "        The start up details is in json format and investors details are list of json format data.\n",
    "        Here are the requirements:\n",
    "            - Founder (start-up) details :\n",
    "                {startup_profile}\n",
    "\n",
    "            - Investor details :\n",
    "                {investor_profiles}\n",
    "        \n",
    "        Consider all the important factors when computing the compatibility score for each investor.\n",
    "        Return a structured output that includes name of investor that matches founder's profile along with their \n",
    "        corresponding match score (0-1). Display the ranked results clearly, indicating the highest compatibility first.\n",
    "\n",
    "        Example output :\n",
    "            [\n",
    "                {\n",
    "                    'AC Venture' : ['match score' : 0.8]\n",
    "                },\n",
    "                {\n",
    "                    'Venture Capital' : ['match score' : 0.7]\n",
    "                },\n",
    "                .....\n",
    "            ]\n",
    "    '''\n",
    "\n",
    "    return prompt"
   ]
  },
  {
   "cell_type": "code",
   "execution_count": 22,
   "id": "04ca810e",
   "metadata": {},
   "outputs": [],
   "source": [
    "import google.generativeai as genai\n",
    "\n",
    "genai.configure(api_key=gemini_api_key)"
   ]
  },
  {
   "cell_type": "code",
   "execution_count": 23,
   "id": "d1d81edd",
   "metadata": {},
   "outputs": [],
   "source": [
    "gemini_model = genai.GenerativeModel(model_name=\"gemini-2.0-flash\")"
   ]
  },
  {
   "cell_type": "code",
   "execution_count": 28,
   "id": "9bd6490d",
   "metadata": {},
   "outputs": [],
   "source": [
    "founder_data = '''\n",
    "    {\n",
    "    Industry : Finance,\n",
    "    startup stage : Early/Pre-Seed,\n",
    "    funding required : $100K,\n",
    "    traction : 15,000 monthly active users (MAUs) within the first 6 months post-launch,\n",
    "    bussiness model : FinSavvy is a mobile-first personal finance management app designed for millennials and Gen Z.\n",
    "                      It helps users budget effectively, track expenses, and invest small amounts through micro-investing, all in one platform.\n",
    "    }\n",
    "'''\n",
    "\n",
    "# investor_data = "
   ]
  },
  {
   "cell_type": "code",
   "execution_count": null,
   "id": "c258bd00",
   "metadata": {},
   "outputs": [],
   "source": [
    "retriever_chain.invoke({\n",
    "    'input' : founder_data\n",
    "})"
   ]
  },
  {
   "cell_type": "code",
   "execution_count": null,
   "id": "2fcc4337",
   "metadata": {},
   "outputs": [],
   "source": [
    "response = gemini_model.generate_content(\n",
    "    contents=load_prompt(founder_data,investor_data)\n",
    ")"
   ]
  }
 ],
 "metadata": {
  "kernelspec": {
   "display_name": "Python 3",
   "language": "python",
   "name": "python3"
  },
  "language_info": {
   "codemirror_mode": {
    "name": "ipython",
    "version": 3
   },
   "file_extension": ".py",
   "mimetype": "text/x-python",
   "name": "python",
   "nbconvert_exporter": "python",
   "pygments_lexer": "ipython3",
   "version": "3.11.4"
  }
 },
 "nbformat": 4,
 "nbformat_minor": 5
}
