{
 "cells": [
  {
   "cell_type": "code",
   "execution_count": 26,
   "id": "23374e6e",
   "metadata": {},
   "outputs": [],
   "source": [
    "import os\n",
    "from dotenv import load_dotenv"
   ]
  },
  {
   "cell_type": "code",
   "execution_count": 27,
   "id": "72567d53",
   "metadata": {},
   "outputs": [
    {
     "data": {
      "text/plain": [
       "True"
      ]
     },
     "execution_count": 27,
     "metadata": {},
     "output_type": "execute_result"
    }
   ],
   "source": [
    "load_dotenv()"
   ]
  },
  {
   "cell_type": "code",
   "execution_count": 28,
   "id": "7c804695",
   "metadata": {},
   "outputs": [],
   "source": [
    "groq_api_key = os.getenv('GROQ_API_KEY')\n",
    "\n",
    "gemini_api_key = os.getenv('GEMINI_API_KEY')"
   ]
  },
  {
   "cell_type": "markdown",
   "id": "c0c9eab3",
   "metadata": {},
   "source": [
    "#### *Extraction Based Approach*"
   ]
  },
  {
   "cell_type": "code",
   "execution_count": 29,
   "id": "61fedf1c",
   "metadata": {},
   "outputs": [],
   "source": [
    "from langchain.document_loaders import PyPDFLoader\n",
    "from langchain_text_splitters import RecursiveCharacterTextSplitter\n",
    "import re\n",
    "\n",
    "def load_and_extract(path):\n",
    "    loader = PyPDFLoader(path,extraction_mode='plain',extraction_kwargs={'codec':'utf-8'})\n",
    "    docs = loader.load()\n",
    "\n",
    "    text = \" \".join([doc.page_content for doc in docs])\n",
    "\n",
    "    text = re.sub(r'\\s+',' ',text)\n",
    "\n",
    "    splitter = RecursiveCharacterTextSplitter(chunk_size=200,chunk_overlap=50)\n",
    "\n",
    "    docs = splitter.split_text(text)\n",
    "\n",
    "    return docs"
   ]
  },
  {
   "cell_type": "code",
   "execution_count": 30,
   "id": "45ce1e17",
   "metadata": {},
   "outputs": [],
   "source": [
    "def preprocess_response(response):\n",
    "    response = re.sub(r\"<think>.*?</think>\",\"\",response,flags=re.DOTALL)\n",
    "\n",
    "    return response"
   ]
  },
  {
   "cell_type": "code",
   "execution_count": 31,
   "id": "d71deada",
   "metadata": {},
   "outputs": [],
   "source": [
    "from langchain_groq import ChatGroq\n",
    "\n",
    "deepseek = ChatGroq(model=\"deepseek-r1-distill-qwen-32b\",temperature=0.6,api_key=groq_api_key)"
   ]
  },
  {
   "cell_type": "code",
   "execution_count": 32,
   "id": "37b0507a",
   "metadata": {},
   "outputs": [],
   "source": [
    "qwen = ChatGroq(model=\"qwen-qwq-32b\",temperature=0.6,api_key=groq_api_key)"
   ]
  },
  {
   "cell_type": "code",
   "execution_count": 33,
   "id": "99436e10",
   "metadata": {},
   "outputs": [],
   "source": [
    "from langchain_core.prompts import ChatPromptTemplate\n",
    "\n",
    "template = '''\n",
    "You are a seasoned startup advisor with over 15 years of experience evaluating pitch decks for various industries. \n",
    "Your expertise lies in analyzing the components of a pitch deck to provide actionable feedback, scoring, and insights on strengths and weaknesses.\n",
    "Your task is to evaluate a startup's pitch deck and provide a pitch score based on these criteria:\n",
    "- Problem Statement (0-15)\n",
    "- Solution Clarity (0-15)\n",
    "- Market Opportunity (0-15)\n",
    "- Business Model (0-10)\n",
    "- Competitive Advantage (0-10)\n",
    "- Team Strength (0-10)\n",
    "- Traction & Metrics (0-10)\n",
    "- Financial projections (0-10)\n",
    "- Investment Ask (0-5)\n",
    "\n",
    "pitch deck : {doc}\n",
    "\n",
    "Provide a score for each section and also provide the total score out of hundred by adding all the score of each section.\n",
    "\n",
    "Example output :\n",
    "\n",
    "    Problem Statement = 10\n",
    "    Solution Clarity = 12\n",
    "    Market Opportunity = 10\n",
    "    Business Model = 10\n",
    "    Competitive Advantage = 10\n",
    "    Team Strength = 5\n",
    "    Traction & Metrics = 8\n",
    "    Financial projections = 10\n",
    "    Investment Ask = 5\n",
    "\n",
    "    Total pitch_score = 80/100\n",
    "\n",
    "Make sure don't provide any information other than the output stated in example.\n",
    "'''\n",
    "\n",
    "structured_prompt = ChatPromptTemplate.from_template(\n",
    "    template=template\n",
    ")"
   ]
  },
  {
   "cell_type": "code",
   "execution_count": 34,
   "id": "0317fc63",
   "metadata": {},
   "outputs": [],
   "source": [
    "deepseek_chain = structured_prompt|deepseek\n",
    "\n",
    "qwen_chain = structured_prompt|qwen"
   ]
  },
  {
   "cell_type": "markdown",
   "id": "46512a3f",
   "metadata": {},
   "source": [
    "#### *OCR using Vision model*"
   ]
  },
  {
   "cell_type": "code",
   "execution_count": 1,
   "id": "4a4d129e",
   "metadata": {},
   "outputs": [],
   "source": [
    "from pdf2image import pdf2image\n",
    "\n",
    "def PDF2IMG(file_path,fmt='ppm'):\n",
    "    '''\n",
    "    Args : \n",
    "        file_path : The path of the pdf file of pitch, make sure to provide the path as raw string.\n",
    "        fmt : The format of images as output\n",
    "    Output :\n",
    "        list of images\n",
    "    '''\n",
    "    \n",
    "    images = pdf2image.convert_from_path(file_path,fmt=fmt)\n",
    "\n",
    "    return images"
   ]
  },
  {
   "cell_type": "code",
   "execution_count": 7,
   "id": "e29cf2b6",
   "metadata": {},
   "outputs": [],
   "source": [
    "vision_model = ChatGroq(model='llama-3.2-90b-vision-preview',api_key=groq_api_key)"
   ]
  },
  {
   "cell_type": "code",
   "execution_count": 10,
   "id": "ff2b3089",
   "metadata": {},
   "outputs": [],
   "source": [
    "vision_template = \"\"\"\n",
    "You are a seasoned startup advisor with over 15 years of experience evaluating pitch decks for various industries. \n",
    "Your expertise lies in analyzing the components of a pitch deck to provide actionable feedback, scoring, and insights on strengths and weaknesses.\n",
    "Your task is to evaluate a startup's pitch deck and provide a pitch score based on these criteria:\n",
    "- Problem Statement (0-15)\n",
    "- Solution Clarity (0-15)\n",
    "- Market Opportunity (0-15)\n",
    "- Business Model (0-10)\n",
    "- Competitive Advantage (0-10)\n",
    "- Team Strength (0-10)\n",
    "- Traction & Metrics (0-10)\n",
    "- Financial projections (0-10)\n",
    "- Investment Ask (0-5)\n",
    "\n",
    "pitch deck : {images}\n",
    "\n",
    "Provide a score for each section and also provide the total score out of hundred by adding all the score of each section.\n",
    "\n",
    "Example output :\n",
    "\n",
    "    Problem Statement = 10\n",
    "    Solution Clarity = 12\n",
    "    Market Opportunity = 10\n",
    "    Business Model = 10\n",
    "    Competitive Advantage = 10\n",
    "    Team Strength = 5\n",
    "    Traction & Metrics = 8\n",
    "    Financial projections = 10\n",
    "    Investment Ask = 5\n",
    "\n",
    "    Total pitch_score = 80/100\n",
    "\n",
    "Make sure don't provide any information other than the output stated in example.\n",
    "\"\"\"\n",
    "\n",
    "vision_prompt = ChatPromptTemplate.from_template(\n",
    "    template=vision_template\n",
    ")"
   ]
  },
  {
   "cell_type": "code",
   "execution_count": 11,
   "id": "9fc3dc58",
   "metadata": {},
   "outputs": [],
   "source": [
    "vision_chain = vision_prompt|vision_model"
   ]
  },
  {
   "cell_type": "markdown",
   "id": "cf6bb360",
   "metadata": {},
   "source": [
    "## ***Evaluation***"
   ]
  },
  {
   "cell_type": "code",
   "execution_count": 17,
   "id": "6327d727",
   "metadata": {},
   "outputs": [],
   "source": [
    "import google.generativeai as genai\n",
    "\n",
    "genai.configure(api_key=gemini_api_key)"
   ]
  },
  {
   "cell_type": "code",
   "execution_count": 35,
   "id": "ec03ad6d",
   "metadata": {},
   "outputs": [
    {
     "name": "stdout",
     "output_type": "stream",
     "text": [
      "models/gemini-1.0-pro-vision-latest\n",
      "models/gemini-pro-vision\n",
      "models/gemini-1.5-pro-latest\n",
      "models/gemini-1.5-pro-001\n",
      "models/gemini-1.5-pro-002\n",
      "models/gemini-1.5-pro\n",
      "models/gemini-1.5-flash-latest\n",
      "models/gemini-1.5-flash-001\n",
      "models/gemini-1.5-flash-001-tuning\n",
      "models/gemini-1.5-flash\n",
      "models/gemini-1.5-flash-002\n",
      "models/gemini-1.5-flash-8b\n",
      "models/gemini-1.5-flash-8b-001\n",
      "models/gemini-1.5-flash-8b-latest\n",
      "models/gemini-1.5-flash-8b-exp-0827\n",
      "models/gemini-1.5-flash-8b-exp-0924\n",
      "models/gemini-2.5-pro-exp-03-25\n",
      "models/gemini-2.5-pro-preview-03-25\n",
      "models/gemini-2.0-flash-exp\n",
      "models/gemini-2.0-flash\n",
      "models/gemini-2.0-flash-001\n",
      "models/gemini-2.0-flash-exp-image-generation\n",
      "models/gemini-2.0-flash-lite-001\n",
      "models/gemini-2.0-flash-lite\n",
      "models/gemini-2.0-flash-lite-preview-02-05\n",
      "models/gemini-2.0-flash-lite-preview\n",
      "models/gemini-2.0-pro-exp\n",
      "models/gemini-2.0-pro-exp-02-05\n",
      "models/gemini-exp-1206\n",
      "models/gemini-2.0-flash-thinking-exp-01-21\n",
      "models/gemini-2.0-flash-thinking-exp\n",
      "models/gemini-2.0-flash-thinking-exp-1219\n",
      "models/learnlm-1.5-pro-experimental\n",
      "models/gemma-3-1b-it\n",
      "models/gemma-3-4b-it\n",
      "models/gemma-3-12b-it\n",
      "models/gemma-3-27b-it\n"
     ]
    }
   ],
   "source": [
    "for model in genai.list_models():\n",
    "    if 'generateContent' in model.supported_generation_methods:\n",
    "        print(model.name)"
   ]
  },
  {
   "cell_type": "code",
   "execution_count": 18,
   "id": "998b4e33",
   "metadata": {},
   "outputs": [],
   "source": [
    "gemini_model = genai.GenerativeModel(model_name=\"gemini-2.0-flash\")"
   ]
  },
  {
   "cell_type": "markdown",
   "id": "cf1dcd01",
   "metadata": {},
   "source": [
    "#### *Evaluation for Extraction Approach*"
   ]
  },
  {
   "cell_type": "code",
   "execution_count": 36,
   "id": "c23b90bc",
   "metadata": {},
   "outputs": [],
   "source": [
    "pitch = load_and_extract(r\"C:\\Users\\SHIVAM GHUGE\\Downloads\\AirBedPitch.pdf\")"
   ]
  },
  {
   "cell_type": "code",
   "execution_count": 37,
   "id": "3a147500",
   "metadata": {},
   "outputs": [],
   "source": [
    "qwen_pitch = qwen_chain.invoke({'doc':pitch})\n",
    "\n",
    "qwen_pitch_score = preprocess_response(qwen_pitch.content).strip()"
   ]
  },
  {
   "cell_type": "code",
   "execution_count": 41,
   "id": "5951b719",
   "metadata": {},
   "outputs": [
    {
     "name": "stdout",
     "output_type": "stream",
     "text": [
      "Problem Statement = 14  \n",
      "Solution Clarity = 13  \n",
      "Market Opportunity = 12  \n",
      "Business Model = 8  \n",
      "Competitive Advantage = 3  \n",
      "Team Strength = 0  \n",
      "Traction & Metrics = 2  \n",
      "Financial projections = 5  \n",
      "Investment Ask = 0  \n",
      "\n",
      "Total pitch_score = 57/100\n"
     ]
    }
   ],
   "source": [
    "print(qwen_pitch_score)"
   ]
  },
  {
   "cell_type": "code",
   "execution_count": 38,
   "id": "901a81ff",
   "metadata": {},
   "outputs": [],
   "source": [
    "deepseek_response = deepseek_chain.invoke({'doc':pitch})\n",
    "\n",
    "deepseek_pitch_score = preprocess_response(deepseek_response.content).strip()"
   ]
  },
  {
   "cell_type": "code",
   "execution_count": 42,
   "id": "91b4df92",
   "metadata": {},
   "outputs": [
    {
     "name": "stdout",
     "output_type": "stream",
     "text": [
      "Problem Statement = 14\n",
      "    Solution Clarity = 13\n",
      "    Market Opportunity = 13\n",
      "    Business Model = 9\n",
      "    Competitive Advantage = 7\n",
      "    Team Strength = 0\n",
      "    Traction & Metrics = 8\n",
      "    Financial projections = 0\n",
      "    Investment Ask = 0\n",
      "\n",
      "    Total pitch_score = 64/100\n"
     ]
    }
   ],
   "source": [
    "print(deepseek_pitch_score)"
   ]
  },
  {
   "cell_type": "code",
   "execution_count": 43,
   "id": "515396f6",
   "metadata": {},
   "outputs": [],
   "source": [
    "evaluation_prompt = f'''\n",
    "You are an AI evaluator. Two LLMs (deepseek-r1 and qwen-32b) have analyzed a startup pitch deck and provided pitch scores.\n",
    "deepseek pitch score : {deepseek_pitch_score}\n",
    "qwen pitch score : {qwen_pitch_score}\n",
    "Your task:\n",
    "    - Review both of their section scores and Total pitch_score.\n",
    "    - Identify areas where they agree/disagree based on section score.\n",
    "    - Provide personalized feedback on which areas the startup pitch need improvement and suggest content improvements or additional data needed.\n",
    "    - Provide the final total score for the pitch based on {deepseek_pitch_score} and {qwen_pitch_score}.\n",
    "\n",
    "Example output :\n",
    "    Final Score = 70/100\n",
    "\n",
    "    personalized feedback : \n",
    "\n",
    "Make sure don't provide any information other than the output stated in example and feedback should be under 300 words.\n",
    "'''"
   ]
  },
  {
   "cell_type": "code",
   "execution_count": 44,
   "id": "e428d29e",
   "metadata": {},
   "outputs": [],
   "source": [
    "response = gemini_model.generate_content(\n",
    "    contents=evaluation_prompt\n",
    ")"
   ]
  },
  {
   "cell_type": "code",
   "execution_count": null,
   "id": "eb8ef67e",
   "metadata": {},
   "outputs": [
    {
     "name": "stdout",
     "output_type": "stream",
     "text": [
      "Final Score = 64/100\n",
      "\n",
      "personalized feedback :\n",
      "\n",
      "Both models agree on the weakness of the pitch regarding Team Strength, Financial Projections, and Investment Ask. The models also largely agree on the Problem Statement, Solution Clarity, and Business Model. They disagree most on Competitive Advantage and Traction & Metrics, with qwen-32b scoring these sections lower.\n",
      "\n",
      "The pitch needs significant improvement in several key areas.\n",
      "\n",
      "*   **Team Strength:** This is a critical area. Introduce the core team members and highlight their relevant experience and expertise. Explain why this team is uniquely positioned to solve the problem.\n",
      "\n",
      "*   **Financial Projections:** Include realistic financial projections, even if high-level. Investors need to see the potential for return. Include key assumptions driving the projections.\n",
      "\n",
      "*   **Investment Ask:** Clearly state the amount of funding sought and how it will be used. Break down the allocation of funds for specific purposes (e.g., product development, marketing, sales).\n",
      "\n",
      "*   **Competitive Advantage:** Elaborate on what makes the startup different and better than existing solutions. Provide concrete examples of how the startup will maintain its competitive edge.\n",
      "\n",
      "*   **Traction & Metrics:** Showcase any existing traction, even if limited. This could include user growth, pilot programs, or letters of intent.\n",
      "\n"
     ]
    }
   ],
   "source": [
    "print(response.text)"
   ]
  },
  {
   "cell_type": "markdown",
   "id": "872cff74",
   "metadata": {},
   "source": [
    "***Pitch-II***"
   ]
  },
  {
   "cell_type": "markdown",
   "id": "06f198c3",
   "metadata": {},
   "source": [
    "#### *Evaluation for OCR Approach*"
   ]
  },
  {
   "cell_type": "markdown",
   "id": "12af74dd",
   "metadata": {},
   "source": [
    "***Pitch-I***"
   ]
  },
  {
   "cell_type": "code",
   "execution_count": null,
   "id": "5037e81e",
   "metadata": {},
   "outputs": [],
   "source": [
    "response = vision_chain.invoke({\n",
    "    'images':PDF2IMG(r\"C:\\Users\\SHIVAM GHUGE\\Downloads\\AirBedPitch.pdf\")\n",
    "})"
   ]
  },
  {
   "cell_type": "code",
   "execution_count": null,
   "id": "8e12dadb",
   "metadata": {},
   "outputs": [],
   "source": [
    "pitch_score = response.content"
   ]
  },
  {
   "cell_type": "code",
   "execution_count": 23,
   "id": "69be02a5",
   "metadata": {},
   "outputs": [],
   "source": [
    "evaluation_prompt_ocr = f'''\n",
    "    You are an AI evaluator. Vision model have analyzed a startup pitch deck and provided pitch scores.\n",
    "    pitch score : {pitch_score}\n",
    "    Your task:\n",
    "        - Review both of their section scores and Total pitch_score.\n",
    "        - Identify areas where they agree/disagree based on section score.\n",
    "        - Provide personalized feedback on which areas the startup pitch need improvement and suggest content improvements or additional data needed.\n",
    "        - Provide the final total score for the pitch based on {pitch_score}.\n",
    "\n",
    "    Example output :\n",
    "        Final Score = 70/100\n",
    "\n",
    "        personalized feedback : \n",
    "\n",
    "    Make sure don't provide any information other than the output stated in example and feedback should be under 300 words.\n",
    "'''"
   ]
  },
  {
   "cell_type": "code",
   "execution_count": 46,
   "id": "561fb48a",
   "metadata": {},
   "outputs": [],
   "source": [
    "res = gemini_model.generate_content(\n",
    "    contents=evaluation_prompt_ocr\n",
    ")"
   ]
  },
  {
   "cell_type": "code",
   "execution_count": 47,
   "id": "64dcf5f6",
   "metadata": {},
   "outputs": [
    {
     "name": "stdout",
     "output_type": "stream",
     "text": [
      "Final Score = 71/100\n",
      "\n",
      "Personalized Feedback:\n",
      "\n",
      "The pitch demonstrates strength in Solution Clarity (10) and Market Opportunity (12), indicating a clear understanding of the product and its potential. Problem Statement, Business Model, Competitive Advantage, and Financial Projections are adequately addressed (all scoring 8).\n",
      "\n",
      "However, there's significant room for improvement in Team Strength (6) and Investment Ask (4). The pitch needs to showcase the team's relevant experience and expertise more effectively. Consider adding specific accomplishments, industry connections, or advisory board members. The Investment Ask score suggests this section is weak. Clarify the use of funds, milestones to be achieved, and the expected return for investors. A low score in this section could deter potential investors.\n",
      "\n",
      "Traction & Metrics (7) could also be strengthened. Provide more concrete data on user acquisition, engagement, or revenue growth to demonstrate early success and validate the business model. More information on these aspects would improve the overall strength of the pitch.\n",
      "\n"
     ]
    }
   ],
   "source": [
    "print(res.text)"
   ]
  },
  {
   "cell_type": "markdown",
   "id": "dc8486cb",
   "metadata": {},
   "source": [
    "***Pitch-II***"
   ]
  }
 ],
 "metadata": {
  "kernelspec": {
   "display_name": "Python 3",
   "language": "python",
   "name": "python3"
  },
  "language_info": {
   "codemirror_mode": {
    "name": "ipython",
    "version": 3
   },
   "file_extension": ".py",
   "mimetype": "text/x-python",
   "name": "python",
   "nbconvert_exporter": "python",
   "pygments_lexer": "ipython3",
   "version": "3.11.4"
  }
 },
 "nbformat": 4,
 "nbformat_minor": 5
}
